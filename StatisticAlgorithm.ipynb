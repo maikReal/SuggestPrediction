{
 "cells": [
  {
   "cell_type": "code",
   "execution_count": 17,
   "metadata": {},
   "outputs": [],
   "source": [
    "import numpy as np\n",
    "import pandas as pd\n",
    "import matplotlib.pyplot as plt\n",
    "import matplotlib.pylab as pylab\n",
    "import requests \n",
    "import json"
   ]
  },
  {
   "cell_type": "markdown",
   "metadata": {},
   "source": [
    "`Hits` - кол-во уникальных запросов одного пользователя <br>\n",
    "`Sess` - кол-во сессий пользователя <br>\n",
    "`SQ` -  кол-во сессий, когда по данному запросу была найдена данная (sku) <br>\n",
    "`HQ` - сколько раз показывался товар по данному запросу (sku)<br>\n",
    "`metric` - метрика, может быть: добавление товара в корзину, кол-во просмотров <br>\n",
    "    1. `ca_search_from_list` - добавление в корзину из поиска \n",
    "    2. `ca_search_from_pdp` - добавления в корзину из карточки после поиска \n",
    "    3. `impression` - показы \n",
    "    4. `pdp_view` - просмотры "
   ]
  },
  {
   "cell_type": "code",
   "execution_count": 83,
   "metadata": {},
   "outputs": [
    {
     "name": "stderr",
     "output_type": "stream",
     "text": [
      "/home/mkrupin/git-folders/tools/python/suggest-prediction/env/lib/python3.5/site-packages/IPython/core/interactiveshell.py:3020: DtypeWarning: Columns (1) have mixed types. Specify dtype option on import or set low_memory=False.\n",
      "  interactivity=interactivity, compiler=compiler, result=result)\n"
     ]
    }
   ],
   "source": [
    "final_dataset = pd.read_csv('suggest_data.csv')"
   ]
  },
  {
   "cell_type": "code",
   "execution_count": 86,
   "metadata": {},
   "outputs": [
    {
     "data": {
      "text/html": [
       "<div>\n",
       "<style scoped>\n",
       "    .dataframe tbody tr th:only-of-type {\n",
       "        vertical-align: middle;\n",
       "    }\n",
       "\n",
       "    .dataframe tbody tr th {\n",
       "        vertical-align: top;\n",
       "    }\n",
       "\n",
       "    .dataframe thead th {\n",
       "        text-align: right;\n",
       "    }\n",
       "</style>\n",
       "<table border=\"1\" class=\"dataframe\">\n",
       "  <thead>\n",
       "    <tr style=\"text-align: right;\">\n",
       "      <th></th>\n",
       "      <th>id</th>\n",
       "      <th>query</th>\n",
       "      <th>metric</th>\n",
       "      <th>hits</th>\n",
       "      <th>sessions</th>\n",
       "    </tr>\n",
       "  </thead>\n",
       "  <tbody>\n",
       "    <tr>\n",
       "      <th>0</th>\n",
       "      <td>31468448</td>\n",
       "      <td>анна тодд</td>\n",
       "      <td>pdp_view</td>\n",
       "      <td>50</td>\n",
       "      <td>37</td>\n",
       "    </tr>\n",
       "    <tr>\n",
       "      <th>1</th>\n",
       "      <td>19874893</td>\n",
       "      <td>свинтус</td>\n",
       "      <td>pdp_view</td>\n",
       "      <td>180</td>\n",
       "      <td>146</td>\n",
       "    </tr>\n",
       "    <tr>\n",
       "      <th>2</th>\n",
       "      <td>142125702</td>\n",
       "      <td>шоколад</td>\n",
       "      <td>pdp_view</td>\n",
       "      <td>20</td>\n",
       "      <td>2</td>\n",
       "    </tr>\n",
       "    <tr>\n",
       "      <th>3</th>\n",
       "      <td>142106214</td>\n",
       "      <td>косметика детская</td>\n",
       "      <td>pdp_view</td>\n",
       "      <td>6</td>\n",
       "      <td>2</td>\n",
       "    </tr>\n",
       "    <tr>\n",
       "      <th>4</th>\n",
       "      <td>147077350</td>\n",
       "      <td>сергей тармашев</td>\n",
       "      <td>pdp_view</td>\n",
       "      <td>8</td>\n",
       "      <td>6</td>\n",
       "    </tr>\n",
       "  </tbody>\n",
       "</table>\n",
       "</div>"
      ],
      "text/plain": [
       "          id              query    metric  hits  sessions\n",
       "0   31468448          анна тодд  pdp_view    50        37\n",
       "1   19874893            свинтус  pdp_view   180       146\n",
       "2  142125702            шоколад  pdp_view    20         2\n",
       "3  142106214  косметика детская  pdp_view     6         2\n",
       "4  147077350    сергей тармашев  pdp_view     8         6"
      ]
     },
     "execution_count": 86,
     "metadata": {},
     "output_type": "execute_result"
    }
   ],
   "source": [
    "final_dataset.head()"
   ]
  },
  {
   "cell_type": "code",
   "execution_count": 137,
   "metadata": {},
   "outputs": [
    {
     "name": "stdout",
     "output_type": "stream",
     "text": [
      "Top SKU of goods: [145123330, '144072677', 142877014, 147156478, 145076482]\n"
     ]
    }
   ],
   "source": [
    "class SuggestPrediction:\n",
    "    \n",
    "    \n",
    "    def findSuggests(self, jsn):\n",
    "\n",
    "        for i in jsn:\n",
    "            if i['type'] == 'suggests':\n",
    "                return i\n",
    "\n",
    "\n",
    "    def get_better_suggestion(self, query):\n",
    "\n",
    "        url = 'http://searchteam-suggest-api.osrch.prod.s.o3.ru/suggest?text={0}'.format(query)\n",
    "        sug_req = json.loads(requests.get(url).text)['completions']\n",
    "\n",
    "       \n",
    "        sug_req = self.findSuggests(sug_req)['completion_values']\n",
    "\n",
    "        all_suggestion = [i['text'] for i in sug_req]\n",
    "        \n",
    "        if query not in all_suggestion:\n",
    "            all_suggestion.append(query)\n",
    "\n",
    "        best_good = pd.DataFrame(columns=final_dataset.columns)\n",
    "        for i in all_suggestion:\n",
    "\n",
    "            main_query = final_dataset[final_dataset['query'] == i] \n",
    "\n",
    "            if len(main_query) != 0:\n",
    "                search = main_query[final_dataset['metric'] == 'ca_search_from_list'].sort_values(by='hits',ascending=False).iloc[0]\n",
    "                if search.shape == 0:\n",
    "                    search = main_query[final_dataset['metric'] == 'ca_search_from_pdp'].sort_values(by='hits',ascending=False).iloc[0]\n",
    "                elif search.shape == 0:\n",
    "                    search = main_query[final_dataset['metric'] == 'pdp_view'].sort_values(by='hits',ascending=False).iloc[0]\n",
    "\n",
    "                best_good = best_good.append(search)\n",
    "\n",
    "                \n",
    "            else:\n",
    "                f_id = [] \n",
    "\n",
    "        return list(best_good['id'])\n",
    "    \n",
    "top_goods = SuggestPrediction().get_better_suggestion('часы')\n",
    "print('Top SKU of goods:',top_goods)"
   ]
  }
 ],
 "metadata": {
  "kernelspec": {
   "display_name": "Python 3",
   "language": "python",
   "name": "python3"
  },
  "language_info": {
   "codemirror_mode": {
    "name": "ipython",
    "version": 3
   },
   "file_extension": ".py",
   "mimetype": "text/x-python",
   "name": "python",
   "nbconvert_exporter": "python",
   "pygments_lexer": "ipython3",
   "version": "3.7.2"
  }
 },
 "nbformat": 4,
 "nbformat_minor": 2
}
