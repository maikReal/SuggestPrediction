{
 "cells": [
  {
   "cell_type": "code",
   "execution_count": 15,
   "metadata": {},
   "outputs": [],
   "source": [
    "import numpy as np\n",
    "import pandas as pd\n",
    "import matplotlib.pyplot as plt\n",
    "import matplotlib.pylab as pylab\n",
    "import requests \n",
    "import json\n",
    "import re"
   ]
  },
  {
   "cell_type": "code",
   "execution_count": 34,
   "metadata": {},
   "outputs": [
    {
     "name": "stderr",
     "output_type": "stream",
     "text": [
      "/usr/local/lib/python3.7/site-packages/ipykernel_launcher.py:9: SettingWithCopyWarning: \n",
      "A value is trying to be set on a copy of a slice from a DataFrame\n",
      "\n",
      "See the caveats in the documentation: http://pandas.pydata.org/pandas-docs/stable/indexing.html#indexing-view-versus-copy\n",
      "  if __name__ == '__main__':\n"
     ]
    },
    {
     "data": {
      "text/html": [
       "<div>\n",
       "<style scoped>\n",
       "    .dataframe tbody tr th:only-of-type {\n",
       "        vertical-align: middle;\n",
       "    }\n",
       "\n",
       "    .dataframe tbody tr th {\n",
       "        vertical-align: top;\n",
       "    }\n",
       "\n",
       "    .dataframe thead th {\n",
       "        text-align: right;\n",
       "    }\n",
       "</style>\n",
       "<table border=\"1\" class=\"dataframe\">\n",
       "  <thead>\n",
       "    <tr style=\"text-align: right;\">\n",
       "      <th></th>\n",
       "      <th>hits</th>\n",
       "      <th>id</th>\n",
       "      <th>metric</th>\n",
       "      <th>query</th>\n",
       "      <th>sessions</th>\n",
       "    </tr>\n",
       "  </thead>\n",
       "  <tbody>\n",
       "    <tr>\n",
       "      <th>562</th>\n",
       "      <td>14.0</td>\n",
       "      <td>147199288</td>\n",
       "      <td>pdp_view</td>\n",
       "      <td>шоколад</td>\n",
       "      <td>5.0</td>\n",
       "    </tr>\n",
       "    <tr>\n",
       "      <th>2</th>\n",
       "      <td>20.0</td>\n",
       "      <td>142125702</td>\n",
       "      <td>pdp_view</td>\n",
       "      <td>шоколад</td>\n",
       "      <td>2.0</td>\n",
       "    </tr>\n",
       "  </tbody>\n",
       "</table>\n",
       "</div>"
      ],
      "text/plain": [
       "     hits         id    metric    query  sessions\n",
       "562  14.0  147199288  pdp_view  шоколад       5.0\n",
       "2    20.0  142125702  pdp_view  шоколад       2.0"
      ]
     },
     "execution_count": 34,
     "metadata": {},
     "output_type": "execute_result"
    }
   ],
   "source": [
    "class SuggestPredictionVersion2:\n",
    "    \n",
    "    def __init__(self,data_path):\n",
    "        self.data = pd.read_csv(data_path)\n",
    "        self.data = self.data.sort_values(by='query')\n",
    "    \n",
    "    def prepare_data(self):\n",
    "        for i in range(self.data.shape[0]):\n",
    "            self.data['query'][i] = re.sub('[\\d+''\"\"\\?|/!@#$.,:;()]', '', self.data['query'][i])\n",
    "    \n",
    "    def binary_search(self, target):\n",
    "        queries = list(self.data['query'])\n",
    "        start = 0\n",
    "        end = len(self.data) - 1\n",
    "        top_goods = []\n",
    "\n",
    "        while start <= end:\n",
    "            middle = int((start + end)/ 2)\n",
    "            midpoint = queries[middle]\n",
    "            if midpoint > target:\n",
    "                end = middle - 1\n",
    "            elif midpoint < target:\n",
    "                start = middle + 1\n",
    "            if target == midpoint:\n",
    "                top_goods.append(middle)\n",
    "                continue\n",
    "\n",
    "            if target in midpoint:\n",
    "                top_goods.append(middle)\n",
    "\n",
    "        return top_goods\n",
    "    \n",
    "    def get_top_goods(self, query):\n",
    "        goods_indexes = self.binary_search( query)\n",
    "        \n",
    "        current_goods = pd.DataFrame()\n",
    "        for i in goods_indexes:\n",
    "            current_goods = current_goods.append(self.data.iloc[i])\n",
    "            \n",
    "        current_goods['id'] = current_goods['id'].astype(int)\n",
    "        \n",
    "        return current_goods.sort_values(by='hits', ascending=False)\n",
    "    \n",
    "\n",
    "sug = SuggestPredictionVersion2('suggest_data.csv')\n",
    "sug.prepare_data()\n",
    "sug.get_top_goods('шок')"
   ]
  }
 ],
 "metadata": {
  "kernelspec": {
   "display_name": "Python 3",
   "language": "python",
   "name": "python3"
  },
  "language_info": {
   "codemirror_mode": {
    "name": "ipython",
    "version": 3
   },
   "file_extension": ".py",
   "mimetype": "text/x-python",
   "name": "python",
   "nbconvert_exporter": "python",
   "pygments_lexer": "ipython3",
   "version": "3.7.2"
  }
 },
 "nbformat": 4,
 "nbformat_minor": 2
}
